{
 "cells": [
  {
   "cell_type": "code",
   "execution_count": 80,
   "id": "1ad6b483",
   "metadata": {},
   "outputs": [],
   "source": [
    "import pandas as pd\n",
    "import numpy as np\n",
    "import joblib\n",
    "import regex as re\n",
    "import whois\n",
    "import datetime\n",
    "import warnings\n",
    "warnings.filterwarnings('ignore')"
   ]
  },
  {
   "cell_type": "markdown",
   "id": "3e25d02a",
   "metadata": {},
   "source": [
    "# All Functions"
   ]
  },
  {
   "cell_type": "code",
   "execution_count": 70,
   "id": "9565d4bd",
   "metadata": {},
   "outputs": [],
   "source": [
    "def master(url) :\n",
    "    data = []\n",
    "    domain, directories, file, parameters = split_url(url, data)\n",
    "    tld_in_param(parameters, data)\n",
    "    char(data, url, directories, file, parameters)\n",
    "    email_in_url(url, data)\n",
    "    create_exp(domain, data)\n",
    "    return (np.array(data)).reshape(1, 77)"
   ]
  },
  {
   "cell_type": "code",
   "execution_count": 71,
   "id": "a026af60",
   "metadata": {},
   "outputs": [],
   "source": [
    "def split_url(url, data):\n",
    "    protocol, _, rest = url.partition('://')\n",
    "    domain, _, rest = rest.partition('/')\n",
    "    path, _, parameters = rest.partition('?')\n",
    "    \n",
    "    directories = path.split('/')\n",
    "    file = '' if '.' not in directories[-1] else directories[-1]\n",
    "    directories = directories[:-1] if file else directories\n",
    "    directories = '/'.join(directories)\n",
    "    \n",
    "    parameters = [param.split('=')[1] for param in parameters.split('&')] if parameters else []\n",
    "    data.append(len(parameters))\n",
    "    parameters = '/'.join(parameters)\n",
    "    \n",
    "    return domain, directories, file, parameters"
   ]
  },
  {
   "cell_type": "code",
   "execution_count": 72,
   "id": "06b828a1",
   "metadata": {},
   "outputs": [],
   "source": [
    "def tld_in_param(parameters, data) :\n",
    "    tld = joblib.load('top_level_domains.joblib')\n",
    "    for i in tld :\n",
    "        if i in url :\n",
    "            data.append(1)\n",
    "            return\n",
    "    data.append(0)\n",
    "    return"
   ]
  },
  {
   "cell_type": "code",
   "execution_count": 73,
   "id": "ea429d1d",
   "metadata": {},
   "outputs": [],
   "source": [
    "def char(data, url, directories, file, parameters) :\n",
    "    components = [url, directories, file, parameters]\n",
    "\n",
    "    special_characters = '.-_/?=@&! ~,+*#$%'\n",
    "\n",
    "    for component in components:\n",
    "        char_count = len(component)\n",
    "        data.append(char_count)\n",
    "\n",
    "        for char in special_characters:\n",
    "            char_count = component.count(char)\n",
    "            data.append(char_count)\n",
    "            \n",
    "    return"
   ]
  },
  {
   "cell_type": "code",
   "execution_count": 74,
   "id": "4f96e250",
   "metadata": {},
   "outputs": [],
   "source": [
    "def email_in_url(url, data) :\n",
    "    email_pattern = r'\\b[A-Za-z0-9._%+-]+@[A-Za-z0-9.-]+\\.[A-Z|a-z]{2,7}\\b'\n",
    "    match = re.search(email_pattern, url)\n",
    "    if match:\n",
    "        data.append(1)\n",
    "    else:\n",
    "        data.append(0)"
   ]
  },
  {
   "cell_type": "code",
   "execution_count": 75,
   "id": "b12863f3",
   "metadata": {},
   "outputs": [],
   "source": [
    "def create_exp(domain, data):\n",
    "    try:\n",
    "        whois_info = whois.whois(domain)\n",
    "        try :\n",
    "            data.append((datetime.datetime.today() - whois_info.get('creation_date')).days)\n",
    "        except :\n",
    "            data.append((datetime.datetime.today() - whois_info.get('creation_date')[0]).days)\n",
    "        try :\n",
    "            data.append((whois_info.get('expiration_date') - datetime.datetime.today()).days)\n",
    "        except :\n",
    "            data.append((whois_info.get('expiration_date')[0] - datetime.datetime.today()).days)\n",
    "    except Exception as e:\n",
    "        data.append(0)\n",
    "        data.append(0)"
   ]
  },
  {
   "cell_type": "markdown",
   "id": "e4fae1e6",
   "metadata": {},
   "source": [
    "# Testing"
   ]
  },
  {
   "cell_type": "code",
   "execution_count": 76,
   "id": "9d0f55f0",
   "metadata": {},
   "outputs": [],
   "source": [
    "pipe = joblib.load('pipeline.joblib')"
   ]
  },
  {
   "cell_type": "code",
   "execution_count": 77,
   "id": "fd8f8c13",
   "metadata": {},
   "outputs": [],
   "source": [
    "url = 'https://www.youtube.com'"
   ]
  },
  {
   "cell_type": "code",
   "execution_count": 81,
   "id": "8c4b16db",
   "metadata": {},
   "outputs": [],
   "source": [
    "pred = pipe.predict(master(url))"
   ]
  },
  {
   "cell_type": "code",
   "execution_count": 82,
   "id": "4fbf0820",
   "metadata": {},
   "outputs": [
    {
     "name": "stdout",
     "output_type": "stream",
     "text": [
      "May not a phishing website\n"
     ]
    }
   ],
   "source": [
    "if pred[0] == 0 :\n",
    "    print('May not a phishing website')\n",
    "else :\n",
    "    print('May be a phishing website')"
   ]
  },
  {
   "cell_type": "code",
   "execution_count": null,
   "id": "1af66926",
   "metadata": {},
   "outputs": [],
   "source": []
  }
 ],
 "metadata": {
  "kernelspec": {
   "display_name": "Python 3 (ipykernel)",
   "language": "python",
   "name": "python3"
  },
  "language_info": {
   "codemirror_mode": {
    "name": "ipython",
    "version": 3
   },
   "file_extension": ".py",
   "mimetype": "text/x-python",
   "name": "python",
   "nbconvert_exporter": "python",
   "pygments_lexer": "ipython3",
   "version": "3.11.5"
  }
 },
 "nbformat": 4,
 "nbformat_minor": 5
}
